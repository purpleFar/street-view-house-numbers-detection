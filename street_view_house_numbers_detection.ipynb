{
  "nbformat": 4,
  "nbformat_minor": 0,
  "metadata": {
    "colab": {
      "name": "street_view_house_numbers_detection.ipynb",
      "provenance": []
    },
    "kernelspec": {
      "name": "python3",
      "display_name": "Python 3"
    },
    "accelerator": "GPU"
  },
  "cells": [
    {
      "cell_type": "code",
      "metadata": {
        "id": "-wGv7zAiGtFa"
      },
      "source": [
        "import os\n",
        "import torch\n",
        "import subprocess\n",
        "print(subprocess.check_output(\"pip install mmcv-full==latest+torch{} -f https://download.openmmlab.com/mmcv/dist/index.html\".format(torch.__version__), shell=True))\n",
        "!git clone https://github.com/purpleFar/street-view-house-numbers-detection.git\n",
        "os.chdir('street-view-house-numbers-detection/')\n",
        "!pip install -r requirements/build.txt\n",
        "!pip install -v -e ."
      ],
      "execution_count": null,
      "outputs": []
    },
    {
      "cell_type": "code",
      "metadata": {
        "id": "JGqbyQ_IOTu4"
      },
      "source": [
        "!nvidia-smi #show gpu information"
      ],
      "execution_count": null,
      "outputs": []
    },
    {
      "cell_type": "code",
      "metadata": {
        "id": "Ydtdge_Kpecc"
      },
      "source": [
        ""
      ],
      "execution_count": null,
      "outputs": []
    }
  ]
}